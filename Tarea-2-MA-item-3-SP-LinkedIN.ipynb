{
 "cells": [
  {
   "cell_type": "markdown",
   "metadata": {
    "collapsed": false
   },
   "source": [
    "## 2.3 Skill Prediction en LinkedIN\n",
    "\n",
    "En esta sección se trabajará con un dataset correspondiente a las competencias declaradas por usuarios de LinkedIN, red social orientada a la formación de contactos profesionales y de negocios.\n",
    "\n",
    "### 2.3.a Generar matriz dispersa."
   ]
  },
  {
   "cell_type": "code",
   "execution_count": 1,
   "metadata": {
    "collapsed": false
   },
   "outputs": [
    {
     "name": "stdout",
     "output_type": "stream",
     "text": [
      "[[0 1 0 ..., 0 0 0]\n",
      " [0 0 0 ..., 0 0 0]\n",
      " [0 0 0 ..., 0 0 0]\n",
      " ..., \n",
      " [0 0 0 ..., 0 0 0]\n",
      " [0 0 0 ..., 0 0 0]\n",
      " [0 1 0 ..., 0 0 0]]\n"
     ]
    },
    {
     "data": {
      "text/plain": [
       "(7890, 14544)"
      ]
     },
     "execution_count": 1,
     "metadata": {},
     "output_type": "execute_result"
    }
   ],
   "source": [
    "#3.a\n",
    "import pandas as pd\n",
    "import numpy as np\n",
    "from scipy.sparse import csr_matrix\n",
    "user_skill = pd.read_csv('user_skill', sep=\":\", header = None)\n",
    "user_skill.columns = ['user','skills']\n",
    "user_skill = user_skill.drop('user', axis=1)\n",
    "user_skill = pd.DataFrame(user_skill)\n",
    "user_skill = pd.DataFrame(user_skill.skills.str.split(',',0).tolist())  \n",
    "df = csr_matrix((7890, 14544), dtype=np.int8).toarray()\n",
    "for i in range(0,7890):\n",
    "    for j in range (0,50):\n",
    "        if (user_skill[j][i]!=None):\n",
    "            id_skill = int(user_skill[j][i])\n",
    "            df[i][id_skill] = id_skill\n",
    "print df #Matriz dispersa 7890 x 14544 donde los 1 equivale que el user tiene la habilidad # siendo esta entre 0 y 14543.\n",
    "df.shape"
   ]
  },
  {
   "cell_type": "markdown",
   "metadata": {
    "collapsed": true
   },
   "source": [
    "Se genera una matriz dispersa 7890x14544 en donde el usuario i contiene la habilidad j se asigna un 1, en caso contrario un 0. Las habilidades varían entre 0 y 14544, para un número de 7890 usuarios.\n",
    "\n",
    "### 2.3.b Generar matrices de Entrenamiento y Prueba."
   ]
  },
  {
   "cell_type": "code",
   "execution_count": 2,
   "metadata": {
    "collapsed": false
   },
   "outputs": [
    {
     "name": "stdout",
     "output_type": "stream",
     "text": [
      "Tamaño matriz training set: (5523, 14544)\n",
      "Tamaño matriz testing set: (2367, 14544)\n"
     ]
    }
   ],
   "source": [
    "#3.b\n",
    "import numpy as np\n",
    "from sklearn.cross_validation import train_test_split\n",
    "z_train, z_test = train_test_split(df, test_size=0.30, random_state=0)\n",
    "print \"Tamaño matriz training set: \" + str(z_train.shape)\n",
    "print \"Tamaño matriz testing set: \" + str(z_test.shape)"
   ]
  },
  {
   "cell_type": "markdown",
   "metadata": {},
   "source": [
    "Se divide la matriz en dos sub-matrices, estas representan los datos de entrenamiento y prueba. Se buscó tener una matriz de entrenamiento mayor a la de prueba, por lo que se asignó de forma aleatória que 70% de los datos de la matriz original a la matriz de entrenamiento y el 30% restante a la matriz de prueba, obteniendo como resultado las matrices de tamaños (5523, 14544) y (2367, 14544).\n",
    "\n",
    "\n",
    "### 2.3.c Gráfico de número de usuarios con respecto a la competencia."
   ]
  },
  {
   "cell_type": "code",
   "execution_count": 3,
   "metadata": {
    "collapsed": false,
    "scrolled": true
   },
   "outputs": [
    {
     "ename": "ImportError",
     "evalue": "No module named wordcloud",
     "output_type": "error",
     "traceback": [
      "\u001b[1;31m---------------------------------------------------------------------------\u001b[0m",
      "\u001b[1;31mImportError\u001b[0m                               Traceback (most recent call last)",
      "\u001b[1;32m<ipython-input-3-3a9ef3846423>\u001b[0m in \u001b[0;36m<module>\u001b[1;34m()\u001b[0m\n\u001b[0;32m      1\u001b[0m \u001b[1;31m#3.c\u001b[0m\u001b[1;33m\u001b[0m\u001b[1;33m\u001b[0m\u001b[0m\n\u001b[1;32m----> 2\u001b[1;33m \u001b[1;32mfrom\u001b[0m \u001b[0mwordcloud\u001b[0m \u001b[1;32mimport\u001b[0m \u001b[0mWordCloud\u001b[0m\u001b[1;33m\u001b[0m\u001b[0m\n\u001b[0m\u001b[0;32m      3\u001b[0m \u001b[1;32mimport\u001b[0m \u001b[0mimage\u001b[0m\u001b[1;33m\u001b[0m\u001b[0m\n\u001b[0;32m      4\u001b[0m \u001b[1;32mimport\u001b[0m \u001b[0mmatplotlib\u001b[0m\u001b[1;33m.\u001b[0m\u001b[0mpyplot\u001b[0m \u001b[1;32mas\u001b[0m \u001b[0mplt\u001b[0m\u001b[1;33m\u001b[0m\u001b[0m\n\u001b[0;32m      5\u001b[0m \u001b[0mget_ipython\u001b[0m\u001b[1;33m(\u001b[0m\u001b[1;33m)\u001b[0m\u001b[1;33m.\u001b[0m\u001b[0mmagic\u001b[0m\u001b[1;33m(\u001b[0m\u001b[1;34mu'matplotlib inline'\u001b[0m\u001b[1;33m)\u001b[0m\u001b[1;33m\u001b[0m\u001b[0m\n",
      "\u001b[1;31mImportError\u001b[0m: No module named wordcloud"
     ]
    }
   ],
   "source": [
    "#3.c\n",
    "from wordcloud import WordCloud\n",
    "import image\n",
    "import matplotlib.pyplot as plt\n",
    "%matplotlib inline\n",
    "\n",
    "# Lectura del archivo skill_id\n",
    "skill_id = pd.read_csv('skill_id', sep=\" :\", header = None, engine='python')\n",
    "skill_id.columns = ['skill','id']\n",
    "skill_id = skill_id.drop('id', axis=1)\n",
    "skill_id = pd.DataFrame(skill_id)\n",
    "skill_id = skill_id.T\n",
    "\n",
    "# Suma de columnas de la csr_matrix df\n",
    "suma_skills = pd.DataFrame(df.sum(0))\n",
    "suma_skills.columns = ['cantidad']\n",
    "suma_skills = suma_skills.T\n",
    "\n",
    "# Concatenacion de skill_id y suma_skills, queda un dataframe de 14544x2\n",
    "frames = [skill_id, suma_skills]\n",
    "result = pd.concat(frames)\n",
    "result = result.T\n",
    "\n",
    "# Proceso para graficar con wordcloud\n",
    "tuples = [tuple(x) for x in result.values]\n",
    "wordcloud = WordCloud(width=800, height=400).generate_from_frequencies(tuples)\n",
    "plt.figure(figsize=(20,10))\n",
    "plt.imshow(wordcloud)\n",
    "plt.axis('off')\n",
    "plt.show()"
   ]
  },
  {
   "cell_type": "markdown",
   "metadata": {},
   "source": [
    "De lo obtenido en el gráfico de nube de palabras se observa que las palabras con mayores tamaños, y que por ende son las con mayor frecuencia en las personas que dicen tener esa habilidad, son Microsoft Excel, Linux, SQL, Negociación, gestión de proyectos y \"unknown\"(variable sin nombre en los datos que se corrigió manualmente).\n",
    "\n",
    "Es posible presumir que los usuarios de LinkedIN en su mayoría son personas que pueden trabajar en cualquier empresa clásica dirigiendo y organizando personal además de poder realizar algunos trabajos menores de secretaría y finanzas.\n",
    "\n",
    "### 2.3.d Construcción de matrices para predicción de competencias."
   ]
  },
  {
   "cell_type": "code",
   "execution_count": 4,
   "metadata": {
    "collapsed": false
   },
   "outputs": [
    {
     "name": "stdout",
     "output_type": "stream",
     "text": [
      "Skill seleccionado: Microsoft Excel (id 71)\n",
      " \n",
      "Matriz X_train:\n",
      "[[0 0 0 ..., 0 0 0]\n",
      " [0 0 0 ..., 0 0 0]\n",
      " [0 0 0 ..., 0 0 0]\n",
      " ..., \n",
      " [0 1 0 ..., 0 0 0]\n",
      " [0 0 0 ..., 0 0 0]\n",
      " [0 1 0 ..., 0 0 0]]\n",
      " \n",
      "Tamaño matriz X_train: (5523, 14543)\n",
      " \n",
      "Matriz y_train:\n",
      "[[71]\n",
      " [ 0]\n",
      " [ 0]\n",
      " ..., \n",
      " [ 0]\n",
      " [ 0]\n",
      " [ 0]]\n",
      " \n",
      "Tamaño matriz y_train: (5523, 1)\n",
      " \n",
      "Matriz X_test:\n",
      "[[0 0 0 ..., 0 0 0]\n",
      " [0 0 0 ..., 0 0 0]\n",
      " [0 0 0 ..., 0 0 0]\n",
      " ..., \n",
      " [0 0 0 ..., 0 0 0]\n",
      " [0 0 0 ..., 0 0 0]\n",
      " [0 0 0 ..., 0 0 0]]\n",
      " \n",
      "Tamaño matriz X_test: (2367, 14543)\n",
      " \n",
      "Matriz y_test:\n",
      "[[ 0]\n",
      " [ 0]\n",
      " [ 0]\n",
      " ..., \n",
      " [ 0]\n",
      " [71]\n",
      " [ 0]]\n",
      " \n",
      "Tamaño matriz y_test: (2367, 1)\n"
     ]
    }
   ],
   "source": [
    "#3.d\n",
    "X_train = np.delete(z_train, 71, 1)\n",
    "y_train = z_train[:,71]\n",
    "y_train = y_train.reshape((5523,1))\n",
    "print \"Skill seleccionado: Microsoft Excel (id 71)\"\n",
    "print \" \"\n",
    "print \"Matriz X_train:\"\n",
    "print X_train\n",
    "print \" \"\n",
    "print \"Tamaño matriz X_train: \" + str(X_train.shape)\n",
    "print \" \"\n",
    "print \"Matriz y_train:\"\n",
    "print y_train\n",
    "print \" \"\n",
    "print \"Tamaño matriz y_train: \" + str(y_train.shape)\n",
    "print \" \"\n",
    "\n",
    "X_test = np.delete(z_test, 71, 1)\n",
    "y_test = z_test[:,71]\n",
    "y_test = y_test.reshape((2367,1))\n",
    "\n",
    "print \"Matriz X_test:\"\n",
    "print X_test\n",
    "print \" \"\n",
    "print \"Tamaño matriz X_test: \" + str(X_test.shape)\n",
    "print \" \"\n",
    "print \"Matriz y_test:\"\n",
    "print y_test\n",
    "print \" \"\n",
    "print \"Tamaño matriz y_test: \" + str(y_test.shape)"
   ]
  },
  {
   "cell_type": "markdown",
   "metadata": {},
   "source": [
    "Se escoge como objetivo la skill \"Microsoft Excel\" cuya id es 71. Recordar que esta variable parecía ser la que más se repetía cuando se realizó el gráfico de competencias entre todos los usuarios, por lo que es probable que siga estando en los primeros lugares dentro del set de entrenamiento.\n",
    "\n",
    "### 2.3.e Entrenamiento de clasificadores."
   ]
  },
  {
   "cell_type": "code",
   "execution_count": null,
   "metadata": {
    "collapsed": false
   },
   "outputs": [],
   "source": [
    "#3.e\n",
    "from sklearn.naive_bayes import BernoulliNB\n",
    "from sklearn.naive_bayes import MultinomialNB\n",
    "from sklearn.linear_model import LogisticRegression\n",
    "from sklearn.svm import LinearSVC\n",
    "\n",
    "model1 = BernoulliNB()\n",
    "model1 = model1.fit(X_train,y_train.values.ravel())\n",
    "\n",
    "model2 = MultinomialNB()\n",
    "model2 = model2.fit(X_train, y_train.values.ravel())\n",
    "\n",
    "model3 = LogisticRegression(penalty='l2',C=0.01)\n",
    "model3 = model3.fit(X_train, y_train.values.ravel())\n",
    "\n",
    "model4 = LinearSVC(C=0.01)\n",
    "model4 = model4.fit(X_train, y_train.values.ravel())"
   ]
  },
  {
   "cell_type": "markdown",
   "metadata": {},
   "source": [
    "-\n",
    "\n",
    "\n",
    "### 2.3.f Predicción de otras competencias."
   ]
  },
  {
   "cell_type": "code",
   "execution_count": null,
   "metadata": {
    "collapsed": true
   },
   "outputs": [],
   "source": [
    "#3.f"
   ]
  },
  {
   "cell_type": "markdown",
   "metadata": {},
   "source": [
    "-"
   ]
  }
 ],
 "metadata": {
  "kernelspec": {
   "display_name": "Python [Root]",
   "language": "python",
   "name": "Python [Root]"
  },
  "language_info": {
   "codemirror_mode": {
    "name": "ipython",
    "version": 2
   },
   "file_extension": ".py",
   "mimetype": "text/x-python",
   "name": "python",
   "nbconvert_exporter": "python",
   "pygments_lexer": "ipython2",
   "version": "2.7.12"
  }
 },
 "nbformat": 4,
 "nbformat_minor": 1
}
